{
 "cells": [
  {
   "cell_type": "markdown",
   "metadata": {},
   "source": [
    "### revering_code"
   ]
  },
  {
   "cell_type": "code",
   "execution_count": 12,
   "metadata": {},
   "outputs": [],
   "source": [
    "lis_ =['data/2019-06-01-10-40-12_640_480_795_313_212_1700_0_2200_0.mp4',\n",
    " 'data/2019-06-01-10-55-02_640_480_795_313_212_1700_0_2200_0.mp4',\n",
    " 'data/2019-06-01-10-55-02_640_480_795_313_212_1700_0_2200_1.mp4',\n",
    " 'data/2019-06-01-10-51-36_640_480_795_313_212_1700_0_2200_0.mp4',\n",
    " 'data/2019-06-01-10-30-32_640_480_795_313_212_1700_0_2200_0.mp4']\n",
    "\n",
    "import os \n",
    "import glob\n",
    "\n",
    "for file,file_name in zip(glob.glob('data/*.mp4'),lis_):  \n",
    "    try:\n",
    "        os.rename(file, file_name)\n",
    "    except:\n",
    "        pass"
   ]
  },
  {
   "cell_type": "code",
   "execution_count": 13,
   "metadata": {},
   "outputs": [],
   "source": [
    "import os\n",
    "import re\n",
    "import time\n",
    "import glob\n",
    "import ipywidgets as widgets\n",
    "from IPython.display import HTML\n",
    "from start_place import start_place\n",
    "from output_string import return_string\n",
    "from file_renaming import files_renaming\n",
    "\n",
    "# TODO: placing class files_renaming into a file files_renaming.py,but\n",
    "# it would cause a bug in recongnizing string '\\' \n",
    "# \"\\\\\" would be recognize as '\\' when it's called inside the class\n",
    "\n",
    "fr = files_renaming(os.getcwd())\n",
    "\n",
    "btn = widgets.Button(description='修改文件名字......')\n",
    "\n",
    "def btn_eventhandler(obj):\n",
    "    str_ = return_string(sp)\n",
    "    try:\n",
    "#         print(f\"写入文件名字为: {str_}\")\n",
    "        fr.rename(str_)\n",
    "#         print(f'可以开始观看下一个视频')\n",
    "    except:\n",
    "        print(\"错误！！！未能成功修改文件名\")\n",
    "btn.on_click(btn_eventhandler)\n",
    "\n",
    "\n",
    "rbtn = widgets.Button(description='撤销上一个文件夹......')\n",
    "\n",
    "def rbtn_eventhandler(obj):\n",
    "    try:\n",
    "        fr.file_retrace()\n",
    "        print(f'回撤名字{fr.new_file} --> {fr.old_file}')\n",
    "    except:\n",
    "        print(\"错误！！！未能成功修改文件名\")\n",
    "    fr.files.update(set([fr.old_file]))\n",
    "rbtn.on_click(rbtn_eventhandler)\n",
    "\n"
   ]
  },
  {
   "cell_type": "markdown",
   "metadata": {},
   "source": [
    "## 开始打标"
   ]
  },
  {
   "cell_type": "code",
   "execution_count": 16,
   "metadata": {},
   "outputs": [
    {
     "data": {
      "text/plain": [
       "'_GOOD_L00dK__DAY_SUN_MPY_ZD_MPY'"
      ]
     },
     "execution_count": 16,
     "metadata": {},
     "output_type": "execute_result"
    }
   ],
   "source": [
    "return_string(sp)"
   ]
  },
  {
   "cell_type": "code",
   "execution_count": 14,
   "metadata": {
    "scrolled": false
   },
   "outputs": [
    {
     "data": {
      "application/vnd.jupyter.widget-view+json": {
       "model_id": "033446d7c251406bbedf4826cba2fe3e",
       "version_major": 2,
       "version_minor": 0
      },
      "text/plain": [
       "HBox(children=(VBox(children=(ToggleButtons(description='良好或复杂:', options=('良好GOOD', '复杂BAD'), value='良好GOOD')…"
      ]
     },
     "metadata": {},
     "output_type": "display_data"
    }
   ],
   "source": [
    "sp = start_place()\n",
    "widgets.HBox([sp ,widgets.VBox([btn,rbtn])])"
   ]
  },
  {
   "cell_type": "code",
   "execution_count": 15,
   "metadata": {},
   "outputs": [
    {
     "data": {
      "text/html": [
       "<video autoplay=True loop=True width=\"640\" height=\"480\" controls><source src=\"data\\2019-06-01-10-40-12_640_480_795_313_212_1700_0_2200_0.mp4\" type=\"video/mp4\"></video>"
      ],
      "text/plain": [
       "<IPython.core.display.HTML object>"
      ]
     },
     "metadata": {},
     "output_type": "display_data"
    },
    {
     "data": {
      "text/plain": [
       "<ipywidgets.widgets.interaction._InteractFactory at 0x26ab0608390>"
      ]
     },
     "execution_count": 15,
     "metadata": {},
     "output_type": "execute_result"
    }
   ],
   "source": [
    "fr.pop_update()\n",
    "widgets.interact(fr.showvideo())"
   ]
  },
  {
   "cell_type": "markdown",
   "metadata": {},
   "source": [
    "## 只剩下最后一个时候执行下面语句"
   ]
  },
  {
   "cell_type": "code",
   "execution_count": 91,
   "metadata": {},
   "outputs": [
    {
     "data": {
      "text/html": [
       "<video width=\"640\" height=\"480\" controls><source src=\"data\\2019-06-01-10-55-02_640_480_795_313_212_1700_0_2200_1.mp4\" type=\"video/mp4\"></video>"
      ],
      "text/plain": [
       "<IPython.core.display.HTML object>"
      ]
     },
     "metadata": {},
     "output_type": "display_data"
    },
    {
     "data": {
      "text/plain": [
       "<ipywidgets.widgets.interaction._InteractFactory at 0x1bd39a27438>"
      ]
     },
     "execution_count": 91,
     "metadata": {},
     "output_type": "execute_result"
    }
   ],
   "source": [
    "fr = files_renaming(os.getcwd())\n",
    "widgets.interact(fr.showvideo())"
   ]
  },
  {
   "cell_type": "code",
   "execution_count": 92,
   "metadata": {},
   "outputs": [
    {
     "data": {
      "application/vnd.jupyter.widget-view+json": {
       "model_id": "8c1e148e5bfa431fa3b9a1b2f2f6153f",
       "version_major": 2,
       "version_minor": 0
      },
      "text/plain": [
       "HBox(children=(VBox(children=(ToggleButtons(description='良好或复杂:', options=('良好GOOD', '复杂BAD'), value='良好GOOD')…"
      ]
     },
     "metadata": {},
     "output_type": "display_data"
    },
    {
     "name": "stdout",
     "output_type": "stream",
     "text": [
      "写入文件名字为: _GOOD_L00dK__DAY_SUN_MPY_ZD_MPY\n",
      "可以开始观看下一个视频\n"
     ]
    }
   ],
   "source": [
    "sp = start_place()\n",
    "widgets.HBox([sp ,btn])"
   ]
  },
  {
   "cell_type": "code",
   "execution_count": null,
   "metadata": {},
   "outputs": [],
   "source": []
  },
  {
   "cell_type": "code",
   "execution_count": null,
   "metadata": {},
   "outputs": [],
   "source": []
  },
  {
   "cell_type": "code",
   "execution_count": null,
   "metadata": {},
   "outputs": [],
   "source": []
  }
 ],
 "metadata": {
  "kernelspec": {
   "display_name": "Python 3",
   "language": "python",
   "name": "python3"
  },
  "language_info": {
   "codemirror_mode": {
    "name": "ipython",
    "version": 3
   },
   "file_extension": ".py",
   "mimetype": "text/x-python",
   "name": "python",
   "nbconvert_exporter": "python",
   "pygments_lexer": "ipython3",
   "version": "3.7.0"
  }
 },
 "nbformat": 4,
 "nbformat_minor": 2
}
